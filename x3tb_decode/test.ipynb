{
 "cells": [
  {
   "cell_type": "code",
   "execution_count": 1,
   "metadata": {},
   "outputs": [],
   "source": [
    "tbfile = r'D:\\Workspaces\\IDAWorkspace\\evol_deepspace\\lysk\\assets\\bundles_exported\\TextAsset\\ActorCfg.bytes'"
   ]
  },
  {
   "cell_type": "code",
   "execution_count": 18,
   "metadata": {},
   "outputs": [],
   "source": [
    "dumpCsContent = open(r'D:\\Workspaces\\IDAWorkspace\\evol_deepspace\\android_rev\\good_il2cpp_dump\\dump.cs', encoding='utf-8').read()"
   ]
  },
  {
   "cell_type": "code",
   "execution_count": 20,
   "metadata": {},
   "outputs": [
    {
     "name": "stdout",
     "output_type": "stream",
     "text": [
      "(?m)\\[X3MessagePackObject\\((.*?)\\)\\]\n",
      ".*?(?:class|enum) (%s)(?:\\s|\\s.*?\\s){\n",
      "\t// Fields\n",
      "(?:[\\S\\s]*?)\n",
      "\t// Properties\n",
      "([\\S\\s]*?)\n",
      "\t// Methods\n",
      "\n"
     ]
    },
    {
     "data": {
      "text/plain": [
       "[('null',\n",
       "  'ActorCfgs',\n",
       "  '\\tpublic Dictionary<int, HeroCfg> girlCfgs { get; set; }\\n\\tpublic Dictionary<int, BoyCfg> boyCfgs { get; set; }\\n\\tpublic Dictionary<int, MonsterCfg> monsterCfgs { get; set; }\\n\\tpublic Dictionary<int, MachineCfg> machineCfgs { get; set; }\\n')]"
      ]
     },
     "execution_count": 20,
     "metadata": {},
     "output_type": "execute_result"
    }
   ],
   "source": [
    "import re\n",
    "CLASS_REGEX = r'''(?m)\\[X3MessagePackObject\\((.*?)\\)\\]\n",
    ".*?(?:class|enum) (%s)(?:\\s|\\s.*?\\s){\n",
    "\t// Fields\n",
    "(?:[\\S\\s]*?)\n",
    "\t// Properties\n",
    "([\\S\\s]*?)\n",
    "\t// Methods\n",
    "'''\n",
    "print(CLASS_REGEX)\n",
    "re.findall(CLASS_REGEX % 'ActorCfgs', dumpCsContent)"
   ]
  },
  {
   "cell_type": "code",
   "execution_count": 8,
   "metadata": {},
   "outputs": [
    {
     "data": {
      "application/javascript": "\n        if (window._pyforest_update_imports_cell) { window._pyforest_update_imports_cell('import re'); }\n    ",
      "text/plain": [
       "<IPython.core.display.Javascript object>"
      ]
     },
     "metadata": {},
     "output_type": "display_data"
    },
    {
     "data": {
      "text/plain": [
       "[]"
      ]
     },
     "execution_count": 8,
     "metadata": {},
     "output_type": "execute_result"
    }
   ],
   "source": []
  }
 ],
 "metadata": {
  "kernelspec": {
   "display_name": "Python 3",
   "language": "python",
   "name": "python3"
  },
  "language_info": {
   "codemirror_mode": {
    "name": "ipython",
    "version": 3
   },
   "file_extension": ".py",
   "mimetype": "text/x-python",
   "name": "python",
   "nbconvert_exporter": "python",
   "pygments_lexer": "ipython3",
   "version": "3.12.3"
  }
 },
 "nbformat": 4,
 "nbformat_minor": 2
}
