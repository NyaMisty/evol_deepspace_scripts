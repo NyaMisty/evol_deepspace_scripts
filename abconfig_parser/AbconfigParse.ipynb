{
 "cells": [
  {
   "cell_type": "code",
   "execution_count": 2,
   "id": "japanese-elite",
   "metadata": {},
   "outputs": [],
   "source": [
    "import io\n",
    "import struct"
   ]
  },
  {
   "cell_type": "code",
   "execution_count": 3,
   "id": "lyric-kitchen",
   "metadata": {},
   "outputs": [],
   "source": [
    "DEFAULT_KEY = bytes.fromhex('6e 01 78 32 06 4d 77 c8')"
   ]
  },
  {
   "cell_type": "code",
   "execution_count": 4,
   "id": "capital-nursing",
   "metadata": {},
   "outputs": [],
   "source": [
    "def xorDecrypt(data, key):\n",
    "    return bytes(c ^ key[i % len(key)] for i, c in enumerate(data))"
   ]
  },
  {
   "cell_type": "code",
   "execution_count": 7,
   "id": "returning-clause",
   "metadata": {},
   "outputs": [],
   "source": [
    "with open('abconfig_2111013.ab', 'rb') as f:\n",
    "    assert f.read(8) == b'-!abcfg!'\n",
    "    h = f.read(32)\n",
    "    abconfigData = xorDecrypt(f.read(), DEFAULT_KEY)"
   ]
  },
  {
   "cell_type": "code",
   "execution_count": 9,
   "id": "synthetic-mongolia",
   "metadata": {},
   "outputs": [],
   "source": [
    "with open('abconfig_2111013.ab_dec', 'wb') as f:\n",
    "    f.write(abconfigData)"
   ]
  }
 ],
 "metadata": {
  "kernelspec": {
   "display_name": "Python 3.10.4 (Pyenv)",
   "language": "python",
   "name": "pyenv-py3.10.4"
  },
  "language_info": {
   "codemirror_mode": {
    "name": "ipython",
    "version": 3
   },
   "file_extension": ".py",
   "mimetype": "text/x-python",
   "name": "python",
   "nbconvert_exporter": "python",
   "pygments_lexer": "ipython3",
   "version": "3.10.4"
  }
 },
 "nbformat": 4,
 "nbformat_minor": 5
}
